{
 "cells": [
  {
   "cell_type": "code",
   "execution_count": 184,
   "metadata": {},
   "outputs": [],
   "source": [
    "from neo4j import GraphDatabase\n",
    "import time\n",
    "import pandas as pd\n",
    "import numpy as np\n",
    "from datetime import datetime\n",
    "import yaml\n",
    "from pathlib import Path\n"
   ]
  },
  {
   "cell_type": "code",
   "execution_count": 185,
   "metadata": {},
   "outputs": [],
   "source": [
    "#TODO CHANGE AUTHOR DIR"
   ]
  },
  {
   "cell_type": "code",
   "execution_count": 186,
   "metadata": {},
   "outputs": [],
   "source": [
    "with Path(\"neo4j_config.yaml\").open() as nc:\n",
    "    neo_config = yaml.safe_load(nc)\n"
   ]
  },
  {
   "cell_type": "code",
   "execution_count": 187,
   "metadata": {},
   "outputs": [],
   "source": [
    "# Load data\n",
    "df = pd.read_parquet(\"data/pubmed_dump_clean.parquet\")\n",
    "df_entit = pd.read_parquet(\"data/entities_05.parquet\")\n",
    "df = df.merge(df_entit, on=\"pmid\", how=\"left\")\n"
   ]
  },
  {
   "cell_type": "code",
   "execution_count": 188,
   "metadata": {},
   "outputs": [],
   "source": [
    "\n",
    "df[\"keywords\"] = (\n",
    "    df[\"keywords\"].fillna({i: np.array([]) for i in df.index}))\n",
    "df[\"disease\"] = (\n",
    "    df[\"disease\"].fillna({i: np.array([]) for i in df.index}))\n",
    "\n",
    "\n",
    "df[\"chemical\"] = (\n",
    "    df[\"chemical\"].fillna({i: np.array([]) for i in df.index}))\n",
    "\n",
    "df[\"organization\"] = (\n",
    "    df[\"organization\"]\n",
    "    .fillna({i: np.array([]) for i in df.index}))\n",
    "\n",
    "df[\"person\"] = (\n",
    "    df[\"person\"].fillna({i: np.array([]) for i in df.index}))\n",
    "\n",
    "df[\"genetic\"] = (\n",
    "    df[\"genetic\"].fillna({i: np.array([]) for i in df.index}))\n",
    "\n",
    "df[\"location\"] = (\n",
    "    df[\"location\"].fillna({i: np.array([]) for i in df.index}))\n"
   ]
  },
  {
   "cell_type": "code",
   "execution_count": 189,
   "metadata": {},
   "outputs": [],
   "source": [
    "for col in df.columns:\n",
    "    if isinstance(df[col][0],np.ndarray):\n",
    "        df[col]=df[col].apply(np.ndarray.tolist)"
   ]
  },
  {
   "cell_type": "code",
   "execution_count": 190,
   "metadata": {},
   "outputs": [],
   "source": [
    "class NeoApp:\n",
    "    def __init__(self, uri, user, password):\n",
    "        self.driver = GraphDatabase.driver(uri, auth=(user, password))\n",
    "\n",
    "    def close(self):\n",
    "        self.driver.close()\n",
    "\n",
    "    def query(self, query, parameters=None, db=None):\n",
    "        session = None\n",
    "        response = None\n",
    "        try:\n",
    "            session = (\n",
    "                self.driver.session(database=db)\n",
    "                if db is not None\n",
    "                else self.driver.session()\n",
    "            )\n",
    "            r = session.run(query, parameters)\n",
    "            response = [ dict(i) for i in r]\n",
    "        except Exception as e:\n",
    "            print(\"Query failed:\", e)\n",
    "        finally:\n",
    "            if session is not None:\n",
    "                session.close()\n",
    "        return response\n",
    "\n",
    "\n",
    "neo_con = NeoApp(neo_config[\"uri\"], neo_config[\"user\"], neo_config[\"password\"])\n"
   ]
  },
  {
   "cell_type": "code",
   "execution_count": 191,
   "metadata": {},
   "outputs": [
    {
     "data": {
      "text/plain": [
       "[{'label': 'Keyword',\n",
       "  'key': 'name',\n",
       "  'keys': ['name'],\n",
       "  'unique': True,\n",
       "  'action': 'DROPPED'},\n",
       " {'label': 'Organization',\n",
       "  'key': 'name',\n",
       "  'keys': ['name'],\n",
       "  'unique': True,\n",
       "  'action': 'DROPPED'},\n",
       " {'label': 'Location',\n",
       "  'key': 'name',\n",
       "  'keys': ['name'],\n",
       "  'unique': True,\n",
       "  'action': 'DROPPED'},\n",
       " {'label': 'Disease',\n",
       "  'key': 'name',\n",
       "  'keys': ['name'],\n",
       "  'unique': True,\n",
       "  'action': 'DROPPED'},\n",
       " {'label': 'Chemical',\n",
       "  'key': 'name',\n",
       "  'keys': ['name'],\n",
       "  'unique': True,\n",
       "  'action': 'DROPPED'},\n",
       " {'label': 'Paper',\n",
       "  'key': 'pmid',\n",
       "  'keys': ['pmid'],\n",
       "  'unique': True,\n",
       "  'action': 'DROPPED'},\n",
       " {'label': 'Author',\n",
       "  'key': 'name',\n",
       "  'keys': ['name'],\n",
       "  'unique': True,\n",
       "  'action': 'DROPPED'}]"
      ]
     },
     "execution_count": 191,
     "metadata": {},
     "output_type": "execute_result"
    }
   ],
   "source": [
    "# Clean previous graph\n",
    "query_str = \"\"\"\n",
    "    MATCH (n)\n",
    "    DETACH DELETE n\n",
    "    \"\"\"\n",
    "neo_con.query(query_str)\n",
    "\n",
    "query_str = \"\"\"\n",
    "    CALL apoc.schema.assert({}, {})\n",
    "    \"\"\"\n",
    "neo_con.query(query_str)\n"
   ]
  },
  {
   "cell_type": "code",
   "execution_count": 192,
   "metadata": {},
   "outputs": [
    {
     "data": {
      "text/plain": [
       "[]"
      ]
     },
     "execution_count": 192,
     "metadata": {},
     "output_type": "execute_result"
    }
   ],
   "source": [
    "neo_con.query(\n",
    "    \"CREATE CONSTRAINT papers IF NOT EXISTS ON (p:Paper) ASSERT p.pmid IS UNIQUE\"\n",
    ")\n",
    "neo_con.query(\n",
    "    \"CREATE CONSTRAINT authors IF NOT EXISTS ON (a:Author) ASSERT a.name IS UNIQUE\"\n",
    ")\n",
    "neo_con.query(\n",
    "    \"CREATE CONSTRAINT keywords IF NOT EXISTS ON (k:Keyword) ASSERT k.name IS UNIQUE\"\n",
    ")\n",
    "neo_con.query(\n",
    "    \"CREATE CONSTRAINT diseases IF NOT EXISTS ON (d:Disease) ASSERT d.name IS UNIQUE\"\n",
    ")\n",
    "neo_con.query(\n",
    "    \"CREATE CONSTRAINT organizations IF NOT EXISTS ON (o:Organization) ASSERT o.name IS UNIQUE\"\n",
    ")\n",
    "neo_con.query(\n",
    "    \"CREATE CONSTRAINT chemicals IF NOT EXISTS ON (c:Chemical) ASSERT c.name IS UNIQUE\"\n",
    ")\n",
    "neo_con.query(\n",
    "    \"CREATE CONSTRAINT locations IF NOT EXISTS ON (l:Location) ASSERT l.name IS UNIQUE\"\n",
    ")\n"
   ]
  },
  {
   "cell_type": "code",
   "execution_count": 193,
   "metadata": {},
   "outputs": [
    {
     "data": {
      "text/plain": [
       "[{'total': 928}]"
      ]
     },
     "execution_count": 193,
     "metadata": {},
     "output_type": "execute_result"
    }
   ],
   "source": [
    "# Create (Paper) nodes\n",
    "query = \"\"\"\n",
    "        UNWIND $rows AS row\n",
    "        MERGE (p:Paper {pmid:toInteger(row.pmid)})\n",
    "        ON CREATE SET\n",
    "        p.title = row.title,\n",
    "        p.authors = row.author_list,\n",
    "        p.keywords = row.keywords,\n",
    "        p.diseases = row.disease,\n",
    "        p.chemicals = row.chemical,\n",
    "        p.locations = row.location,\n",
    "        p.organizations = row.organization,\n",
    "        p.date = toInteger(row.date),\n",
    "        p.url = row.url\n",
    "        RETURN count(*) as total\n",
    "        \"\"\"\n",
    "rows = df[\n",
    "    [\n",
    "        \"title\",\n",
    "        \"pmid\",\n",
    "        \"author_list\",\n",
    "        \"keywords\",\n",
    "        \"disease\",\n",
    "        \"chemical\",\n",
    "        \"location\",\n",
    "        \"organization\",\n",
    "        \"date\",\n",
    "        \"url\",\n",
    "    ]\n",
    "].to_dict(\"records\")\n",
    "neo_con.query(query, parameters={\"rows\": rows})\n"
   ]
  },
  {
   "cell_type": "code",
   "execution_count": 194,
   "metadata": {},
   "outputs": [],
   "source": [
    "# Expand selected properties to nodes\n",
    "author_dic = {\n",
    "    \"node_type\": \"Author\",\n",
    "    \"node_label\": \"a\",\n",
    "    \"property_name\": \"authors\",\n",
    "    \"rel_name\": \"AUTHORED\",\n",
    "}\n",
    "chem_dic = {\n",
    "    \"node_type\": \"Chemical\",\n",
    "    \"node_label\": \"c\",\n",
    "    \"property_name\": \"chemicals\",\n",
    "    \"rel_name\": \"ABOUT_CHEMICAL\",\n",
    "}\n",
    "dis_dic = {\n",
    "    \"node_type\": \"Disease\",\n",
    "    \"node_label\": \"d\",\n",
    "    \"property_name\": \"diseases\",\n",
    "    \"rel_name\": \"ABOUT_DISEASE\",\n",
    "}\n",
    "gen_dic = {\n",
    "    \"node_type\": \"Genetic\",\n",
    "    \"node_label\": \"g\",\n",
    "    \"property_name\": \"genetics\",\n",
    "    \"rel_name\": \"ABOUT_GENETIC\",\n",
    "}\n",
    "loc_dic = {\n",
    "    \"node_type\": \"Location\",\n",
    "    \"node_label\": \"l\",\n",
    "    \"property_name\": \"locations\",\n",
    "    \"rel_name\": \"HAS_LOCATION\",\n",
    "}\n",
    "org_dic = {\n",
    "    \"node_type\": \"Organization\",\n",
    "    \"node_label\": \"o\",\n",
    "    \"property_name\": \"organizations\",\n",
    "    \"rel_name\": \"HAS_ORG\",\n",
    "}\n",
    "key_dic = {\n",
    "    \"node_type\": \"Keyword\",\n",
    "    \"node_label\": \"k\",\n",
    "    \"property_name\": \"keywords\",\n",
    "    \"rel_name\": \"HAS_KEYWORD\",\n",
    "}\n",
    "col_list = [author_dic, chem_dic, dis_dic, gen_dic, loc_dic, org_dic, key_dic]\n",
    "\n",
    "for col in col_list:\n",
    "    query = f\"\"\"\n",
    "            MATCH (p:Paper)\n",
    "            UNWIND p.{col[\"property_name\"]} AS property\n",
    "            WITH  property, collect(p) AS papers\n",
    "            MERGE ({col[\"node_label\"]}:{col[\"node_type\"]} {{name:property}})\n",
    "            WITH {col[\"node_label\"]}, papers\n",
    "            UNWIND papers AS p\n",
    "            WITH {col[\"node_label\"]},p\n",
    "            MERGE (p)-[:{col[\"rel_name\"]}]->({col[\"node_label\"]});\n",
    "            \"\"\"\n",
    "    neo_con.query(query)\n",
    "\n",
    "    query = f\"\"\"\n",
    "            MATCH (p:Paper)\n",
    "            SET p.{col[\"property_name\"]} = null\n",
    "            \"\"\"\n",
    "    neo_con.query(query)\n"
   ]
  },
  {
   "cell_type": "code",
   "execution_count": 195,
   "metadata": {},
   "outputs": [
    {
     "name": "stdout",
     "output_type": "stream",
     "text": [
      "[{'nodeProjection': {'Keyword': {'label': 'Keyword', 'properties': {}}, 'Paper': {'label': 'Paper', 'properties': {}}}, 'relationshipProjection': {'HAS_KEYWORD': {'orientation': 'NATURAL', 'aggregation': 'DEFAULT', 'type': 'HAS_KEYWORD', 'properties': {}}}, 'graphName': 'myGraph', 'nodeCount': 2360, 'relationshipCount': 1950, 'projectMillis': 15}]\n",
      "[{'nodesCompared': 326, 'relationshipsWritten': 493}]\n",
      "[{'graphName': 'myGraph'}]\n",
      "[{'nodeProjection': {'Chemical': {'label': 'Chemical', 'properties': {}}, 'Paper': {'label': 'Paper', 'properties': {}}}, 'relationshipProjection': {'ABOUT_CHEMICAL': {'orientation': 'NATURAL', 'aggregation': 'DEFAULT', 'type': 'ABOUT_CHEMICAL', 'properties': {}}}, 'graphName': 'myGraph', 'nodeCount': 1452, 'relationshipCount': 798, 'projectMillis': 56}]\n",
      "[{'nodesCompared': 167, 'relationshipsWritten': 309}]\n",
      "[{'graphName': 'myGraph'}]\n",
      "[{'nodeProjection': {'Disease': {'label': 'Disease', 'properties': {}}, 'Paper': {'label': 'Paper', 'properties': {}}}, 'relationshipProjection': {'ABOUT_DISEASE': {'orientation': 'NATURAL', 'aggregation': 'DEFAULT', 'type': 'ABOUT_DISEASE', 'properties': {}}}, 'graphName': 'myGraph', 'nodeCount': 1880, 'relationshipCount': 1967, 'projectMillis': 18}]\n",
      "[{'nodesCompared': 394, 'relationshipsWritten': 1956}]\n",
      "[{'graphName': 'myGraph'}]\n"
     ]
    }
   ],
   "source": [
    "# Add node similarities\n",
    "degree_cutoff = 2\n",
    "similarity_cutoff = 0.2\n",
    "\n",
    "drop_graph_query = \"\"\"\n",
    "CALL gds.graph.drop('myGraph') YIELD graphName;\n",
    "\"\"\"\n",
    "# preview_query = f\"\"\"\n",
    "# CALL gds.nodeSimilarity.stream('myGraph', {{ degreeCutoff: {degree_cutoff} , similarityCutoff: {similarity_cutoff}}})\n",
    "# YIELD node1, node2, similarity\n",
    "# RETURN gds.util.asNode(node1).title AS Paper1, gds.util.asNode(node2).title AS Paper2, similarity\n",
    "# ORDER BY similarity DESC\n",
    "# \"\"\"\n",
    "\n",
    "\n",
    "# 1. Keywords\n",
    "project_query = \"\"\"\n",
    "CALL gds.graph.project(\n",
    "    'myGraph',\n",
    "    ['Paper','Keyword'],\n",
    "    ['HAS_KEYWORD']\n",
    ");\n",
    "\"\"\"\n",
    "write_similarity_query = f\"\"\"\n",
    "CALL gds.nodeSimilarity.write('myGraph', {{\n",
    "    writeRelationshipType: 'SIMILAR_KEYWORDS',\n",
    "    writeProperty: 'score',\n",
    "    degreeCutoff: {degree_cutoff},\n",
    "    similarityCutoff: {similarity_cutoff}\n",
    "}})\n",
    "YIELD nodesCompared, relationshipsWritten\n",
    "\"\"\"\n",
    "print(neo_con.query(project_query))\n",
    "print(neo_con.query(write_similarity_query))\n",
    "print(neo_con.query(drop_graph_query))\n",
    "\n",
    "# 2. Chemical\n",
    "project_query = \"\"\"\n",
    "CALL gds.graph.project(\n",
    "    'myGraph',\n",
    "    ['Paper','Chemical'],\n",
    "    ['ABOUT_CHEMICAL']\n",
    ");\n",
    "\"\"\"\n",
    "write_similarity_query = f\"\"\"\n",
    "CALL gds.nodeSimilarity.write('myGraph', {{\n",
    "    writeRelationshipType: 'SIMILAR_CHEMICAL',\n",
    "    writeProperty: 'score',\n",
    "    degreeCutoff: {degree_cutoff},\n",
    "    similarityCutoff: {similarity_cutoff}\n",
    "}})\n",
    "YIELD nodesCompared, relationshipsWritten\n",
    "\"\"\"\n",
    "print(neo_con.query(project_query))\n",
    "print(neo_con.query(write_similarity_query))\n",
    "print(neo_con.query(drop_graph_query))\n",
    "\n",
    "# 3. Disease\n",
    "project_query = \"\"\"\n",
    "CALL gds.graph.project(\n",
    "    'myGraph',\n",
    "    ['Paper','Disease'],\n",
    "    ['ABOUT_DISEASE']\n",
    ");\n",
    "\"\"\"\n",
    "write_similarity_query = f\"\"\"\n",
    "CALL gds.nodeSimilarity.write('myGraph', {{\n",
    "    writeRelationshipType: 'SIMILAR_DISEASE',\n",
    "    writeProperty: 'score',\n",
    "    degreeCutoff: {degree_cutoff},\n",
    "    similarityCutoff: {similarity_cutoff}\n",
    "}})\n",
    "YIELD nodesCompared, relationshipsWritten\n",
    "\"\"\"\n",
    "print(neo_con.query(project_query))\n",
    "print(neo_con.query(write_similarity_query))\n",
    "print(neo_con.query(drop_graph_query))\n"
   ]
  }
 ],
 "metadata": {
  "kernelspec": {
   "display_name": "Python 3.9.13 ('pbmd')",
   "language": "python",
   "name": "python3"
  },
  "language_info": {
   "codemirror_mode": {
    "name": "ipython",
    "version": 3
   },
   "file_extension": ".py",
   "mimetype": "text/x-python",
   "name": "python",
   "nbconvert_exporter": "python",
   "pygments_lexer": "ipython3",
   "version": "3.9.13"
  },
  "orig_nbformat": 4,
  "vscode": {
   "interpreter": {
    "hash": "fd019aaf1f611e90ac1028bec02a0338950b00eb5434906f3c14a2e122abe040"
   }
  }
 },
 "nbformat": 4,
 "nbformat_minor": 2
}
