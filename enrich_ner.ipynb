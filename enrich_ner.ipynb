{
 "cells": [
  {
   "cell_type": "code",
   "execution_count": 44,
   "metadata": {},
   "outputs": [],
   "source": [
    "import pandas as pd\n",
    "from tqdm import tqdm\n",
    "from transformers import AutoTokenizer, AutoModelForTokenClassification\n",
    "from transformers import pipeline\n",
    "import numpy as np\n",
    "\n",
    "tqdm.pandas()\n",
    "import re\n"
   ]
  },
  {
   "cell_type": "code",
   "execution_count": 45,
   "metadata": {},
   "outputs": [
    {
     "data": {
      "text/html": [
       "<div>\n",
       "<style scoped>\n",
       "    .dataframe tbody tr th:only-of-type {\n",
       "        vertical-align: middle;\n",
       "    }\n",
       "\n",
       "    .dataframe tbody tr th {\n",
       "        vertical-align: top;\n",
       "    }\n",
       "\n",
       "    .dataframe thead th {\n",
       "        text-align: right;\n",
       "    }\n",
       "</style>\n",
       "<table border=\"1\" class=\"dataframe\">\n",
       "  <thead>\n",
       "    <tr style=\"text-align: right;\">\n",
       "      <th></th>\n",
       "      <th>pmid</th>\n",
       "      <th>abstract</th>\n",
       "    </tr>\n",
       "  </thead>\n",
       "  <tbody>\n",
       "    <tr>\n",
       "      <th>0</th>\n",
       "      <td>30656465</td>\n",
       "      <td>\\n\\n      \\n      Koala retrovirus (KoRV) is a...</td>\n",
       "    </tr>\n",
       "    <tr>\n",
       "      <th>1</th>\n",
       "      <td>28669101</td>\n",
       "      <td>\\n\\n      \\n      Koala (Phascolarctos cinereu...</td>\n",
       "    </tr>\n",
       "    <tr>\n",
       "      <th>2</th>\n",
       "      <td>29967444</td>\n",
       "      <td>\\n\\n      \\n      The koala, the only extant s...</td>\n",
       "    </tr>\n",
       "    <tr>\n",
       "      <th>3</th>\n",
       "      <td>32470998</td>\n",
       "      <td>\\n\\n      \\n      Habitat destruction and frag...</td>\n",
       "    </tr>\n",
       "    <tr>\n",
       "      <th>4</th>\n",
       "      <td>31848216</td>\n",
       "      <td>\\n\\n      \\n      The morphology and locomotor...</td>\n",
       "    </tr>\n",
       "    <tr>\n",
       "      <th>...</th>\n",
       "      <td>...</td>\n",
       "      <td>...</td>\n",
       "    </tr>\n",
       "    <tr>\n",
       "      <th>923</th>\n",
       "      <td>33257543</td>\n",
       "      <td>\\n\\n      \\n      Fingerprints are unique to p...</td>\n",
       "    </tr>\n",
       "    <tr>\n",
       "      <th>924</th>\n",
       "      <td>36161902</td>\n",
       "      <td>\\n\\n      \\n      Lorises are a group of globa...</td>\n",
       "    </tr>\n",
       "    <tr>\n",
       "      <th>925</th>\n",
       "      <td>24906475</td>\n",
       "      <td>\\n\\n      \\n      Structural characterizations...</td>\n",
       "    </tr>\n",
       "    <tr>\n",
       "      <th>926</th>\n",
       "      <td>25197935</td>\n",
       "      <td>\\n\\n      \\n      A specific galactose-binding...</td>\n",
       "    </tr>\n",
       "    <tr>\n",
       "      <th>927</th>\n",
       "      <td>32173180</td>\n",
       "      <td>\\n\\n\\n          Background:\\n        \\n      \\...</td>\n",
       "    </tr>\n",
       "  </tbody>\n",
       "</table>\n",
       "<p>928 rows × 2 columns</p>\n",
       "</div>"
      ],
      "text/plain": [
       "         pmid                                           abstract\n",
       "0    30656465  \\n\\n      \\n      Koala retrovirus (KoRV) is a...\n",
       "1    28669101  \\n\\n      \\n      Koala (Phascolarctos cinereu...\n",
       "2    29967444  \\n\\n      \\n      The koala, the only extant s...\n",
       "3    32470998  \\n\\n      \\n      Habitat destruction and frag...\n",
       "4    31848216  \\n\\n      \\n      The morphology and locomotor...\n",
       "..        ...                                                ...\n",
       "923  33257543  \\n\\n      \\n      Fingerprints are unique to p...\n",
       "924  36161902  \\n\\n      \\n      Lorises are a group of globa...\n",
       "925  24906475  \\n\\n      \\n      Structural characterizations...\n",
       "926  25197935  \\n\\n      \\n      A specific galactose-binding...\n",
       "927  32173180  \\n\\n\\n          Background:\\n        \\n      \\...\n",
       "\n",
       "[928 rows x 2 columns]"
      ]
     },
     "execution_count": 45,
     "metadata": {},
     "output_type": "execute_result"
    }
   ],
   "source": [
    "# Read abstracts\n",
    "df = pd.read_parquet(\"data/pubmed_dump_raw.parquet\", columns=[\"pmid\", \"abstract\"])\n",
    "df\n"
   ]
  },
  {
   "cell_type": "code",
   "execution_count": 46,
   "metadata": {},
   "outputs": [],
   "source": [
    "def gen_ent(abstract, ner, min_score):\n",
    "\n",
    "    ner_results = ner(abstract)\n",
    "\n",
    "    if not ner_results:\n",
    "        return {}\n",
    "\n",
    "    entity_df = pd.DataFrame(ner_results)\n",
    "    entity_df = entity_df[entity_df.entity_group != \"MISC\"]\n",
    "    entity_df = entity_df[entity_df.entity_group != \"0\"]\n",
    "    entity_df = entity_df[entity_df.score > min_score]\n",
    "\n",
    "    if entity_df.empty:\n",
    "        return {}\n",
    "    else:\n",
    "        entity_dict = entity_df.groupby(\"entity_group\").word.agg(list).to_dict()\n",
    "        return entity_dict\n"
   ]
  },
  {
   "cell_type": "code",
   "execution_count": 47,
   "metadata": {},
   "outputs": [
    {
     "name": "stderr",
     "output_type": "stream",
     "text": [
      "100%|██████████| 928/928 [19:53<00:00,  1.29s/it]\n"
     ]
    }
   ],
   "source": [
    "# entities: location (LOC), organizations (ORG), person (PER) and Miscellaneous (MISC)\n",
    "tokenizer = AutoTokenizer.from_pretrained(\"dslim/bert-base-NER\")\n",
    "model = AutoModelForTokenClassification.from_pretrained(\"dslim/bert-base-NER\")\n",
    "ner = pipeline(\"ner\", model=model, tokenizer=tokenizer, aggregation_strategy=\"simple\")\n",
    "\n",
    "ent_dict = df.abstract.progress_apply(gen_ent, ner=ner, min_score=0.5)\n",
    "ent_df = pd.DataFrame.from_dict(ent_dict.to_list())\n",
    "df = pd.concat([df, ent_df], axis=1)\n"
   ]
  },
  {
   "cell_type": "code",
   "execution_count": 48,
   "metadata": {},
   "outputs": [
    {
     "name": "stderr",
     "output_type": "stream",
     "text": [
      "100%|██████████| 928/928 [18:25<00:00,  1.19s/it]\n"
     ]
    }
   ],
   "source": [
    "# entities: DISEASE\n",
    "tokenizer = AutoTokenizer.from_pretrained(\"alvaroalon2/biobert_diseases_ner\")\n",
    "model = AutoModelForTokenClassification.from_pretrained(\n",
    "    \"alvaroalon2/biobert_diseases_ner\"\n",
    ")\n",
    "ner = pipeline(\"ner\", model=model, tokenizer=tokenizer, aggregation_strategy=\"simple\")\n",
    "\n",
    "ent_dict = df.abstract.progress_apply(gen_ent, ner=ner, min_score=0.5)\n",
    "ent_df = pd.DataFrame.from_dict(ent_dict.to_list())\n",
    "df = pd.concat([df, ent_df], axis=1)\n"
   ]
  },
  {
   "cell_type": "code",
   "execution_count": 49,
   "metadata": {},
   "outputs": [
    {
     "name": "stderr",
     "output_type": "stream",
     "text": [
      "100%|██████████| 928/928 [18:00<00:00,  1.16s/it]\n"
     ]
    }
   ],
   "source": [
    "# entities: GENETIC\n",
    "tokenizer = AutoTokenizer.from_pretrained(\"alvaroalon2/biobert_genetic_ner\")\n",
    "model = AutoModelForTokenClassification.from_pretrained(\n",
    "    \"alvaroalon2/biobert_genetic_ner\"\n",
    ")\n",
    "ner = pipeline(\"ner\", model=model, tokenizer=tokenizer, aggregation_strategy=\"simple\")\n",
    "\n",
    "ent_dict = df.abstract.progress_apply(gen_ent, ner=ner, min_score=0.5)\n",
    "ent_df = pd.DataFrame.from_dict(ent_dict.to_list())\n",
    "df = pd.concat([df, ent_df], axis=1)\n"
   ]
  },
  {
   "cell_type": "code",
   "execution_count": 50,
   "metadata": {},
   "outputs": [
    {
     "name": "stderr",
     "output_type": "stream",
     "text": [
      "100%|██████████| 928/928 [17:36<00:00,  1.14s/it]\n"
     ]
    }
   ],
   "source": [
    "# entities: CHEMICAL\n",
    "tokenizer = AutoTokenizer.from_pretrained(\"alvaroalon2/biobert_chemical_ner\")\n",
    "model = AutoModelForTokenClassification.from_pretrained(\n",
    "    \"alvaroalon2/biobert_chemical_ner\"\n",
    ")\n",
    "ner = pipeline(\"ner\", model=model, tokenizer=tokenizer, aggregation_strategy=\"simple\")\n",
    "\n",
    "ent_dict = df.abstract.progress_apply(gen_ent, ner=ner, min_score=0.5)\n",
    "ent_df = pd.DataFrame(ent_dict.to_list())\n",
    "df = pd.concat([df, ent_df], axis=1)\n"
   ]
  },
  {
   "cell_type": "code",
   "execution_count": 51,
   "metadata": {},
   "outputs": [
    {
     "name": "stderr",
     "output_type": "stream",
     "text": [
      "100%|██████████| 6/6 [00:00<00:00,  7.70it/s]\n"
     ]
    }
   ],
   "source": [
    "# Post-process entities\n",
    "def strip_str(instr):\n",
    "    return re.sub(\"[^A-Za-z0-9]+\", \" \", instr)\n",
    "\n",
    "\n",
    "def rm_htkn(row, entity_name):\n",
    "    entities = row[entity_name]\n",
    "    abstract = row[\"abstract\"]\n",
    "\n",
    "    if isinstance(entities, list):\n",
    "        whole_words = []\n",
    "        for word in entities:\n",
    "            word = strip_str(word)\n",
    "            if word != \" \":\n",
    "                if re.search(r\"\\b{}\\b\".format(word), abstract):\n",
    "                    whole_words.append(word)\n",
    "        return whole_words\n",
    "\n",
    "    else:\n",
    "        return []\n",
    "\n",
    "\n",
    "entity_dict = {\n",
    "    \"LOC\": \"location\",\n",
    "    \"ORG\": \"organization\",\n",
    "    \"PER\": \"person\",\n",
    "    \"GENETIC\": \"genetic\",\n",
    "    \"DISEASE\": \"disease\",\n",
    "    \"CHEMICAL\": \"chemical\",\n",
    "}\n",
    "df.abstract = df.abstract.apply(strip_str)\n",
    "for entity in tqdm(entity_dict.keys()):\n",
    "    df[entity] = df.apply(rm_htkn, args=(entity,), axis=1)\n",
    "\n",
    "df = df.rename(columns=entity_dict)\n"
   ]
  },
  {
   "cell_type": "code",
   "execution_count": 52,
   "metadata": {},
   "outputs": [],
   "source": [
    "# Save entities\n",
    "df = df.apply(lambda s: s.fillna({i: [] for i in df.index})).drop(columns=\"abstract\")\n",
    "df.to_parquet(\"data/entities_05.parquet\")\n"
   ]
  }
 ],
 "metadata": {
  "kernelspec": {
   "display_name": "Python 3.9.13 ('pbmd')",
   "language": "python",
   "name": "python3"
  },
  "language_info": {
   "codemirror_mode": {
    "name": "ipython",
    "version": 3
   },
   "file_extension": ".py",
   "mimetype": "text/x-python",
   "name": "python",
   "nbconvert_exporter": "python",
   "pygments_lexer": "ipython3",
   "version": "3.9.13"
  },
  "orig_nbformat": 4,
  "vscode": {
   "interpreter": {
    "hash": "fd019aaf1f611e90ac1028bec02a0338950b00eb5434906f3c14a2e122abe040"
   }
  }
 },
 "nbformat": 4,
 "nbformat_minor": 2
}
