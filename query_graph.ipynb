{
 "cells": [
  {
   "cell_type": "code",
   "execution_count": null,
   "metadata": {},
   "outputs": [
    {
     "data": {
      "text/plain": [
       "'\\nMATCH (p)-[:AUTHORED]->(a)\\nWITH a, COLLECT(p) as papers\\nORDER BY SIZE(papers) DESC\\nRETURN a.name, SIZE(papers)\\n'"
      ]
     },
     "metadata": {},
     "output_type": "display_data"
    }
   ],
   "source": [
    "# -1. Who is most prevelent researcher writing papers on koalas?\n",
    "# authored relationship is backwards\n",
    "\"\"\"\n",
    "MATCH (p)-[:AUTHORED]->(a)\n",
    "WITH a, COLLECT(p) as papers\n",
    "ORDER BY SIZE(papers) DESC\n",
    "RETURN a.name, SIZE(papers)\n",
    "\"\"\"\n",
    "\n"
   ]
  },
  {
   "cell_type": "code",
   "execution_count": null,
   "metadata": {},
   "outputs": [
    {
     "data": {
      "text/plain": [
       "'\\nMATCH (p)-[:HAS_KEYWORD]->(k)\\nWITH k, COLLECT(p) as papers\\nORDER BY SIZE(papers) DESC LIMIT 20\\nRETURN k.name, SIZE(papers)\\n'"
      ]
     },
     "metadata": {},
     "output_type": "display_data"
    }
   ],
   "source": [
    "# 0. What is the most common topic in publications on koalas?\n",
    "# find most common keywords\n",
    "\n",
    "\"\"\"\n",
    "MATCH (p)-[:HAS_KEYWORD]->(k)\n",
    "WITH k, COLLECT(p) as papers\n",
    "ORDER BY SIZE(papers) DESC LIMIT 20\n",
    "RETURN k.name, SIZE(papers)\n",
    "\"\"\"\n",
    "\n",
    "# 0.1 how has the field evolved over time?\n",
    "# what were the most common keywords in the 90's - a signal of\n",
    "# for the koala\n",
    "\n",
    "# doesn't seem to be keywords before 90's and not many in 00's,\n",
    "# hard to make any comparison - probably not enough papers"
   ]
  },
  {
   "cell_type": "code",
   "execution_count": null,
   "metadata": {},
   "outputs": [
    {
     "data": {
      "text/plain": [
       "'\\nMATCH (p)-[:ABOUT_DISEASE]->(d)\\nWITH d, COLLECT(p) as papers\\nORDER BY SIZE(papers) DESC LIMIT 5\\nRETURN d.name, SIZE(papers)\\n'"
      ]
     },
     "metadata": {},
     "output_type": "display_data"
    }
   ],
   "source": [
    "# 1. What are diseases that affect the animal?\n",
    "# return top 5 most common diseases and their paper count\n",
    "\n",
    "\"\"\"\n",
    "MATCH (p)-[:ABOUT_DISEASE]->(d)\n",
    "WITH d, COLLECT(p) as papers\n",
    "ORDER BY SIZE(papers) DESC LIMIT 5\n",
    "RETURN d.name, SIZE(papers)\n",
    "\"\"\""
   ]
  },
  {
   "cell_type": "code",
   "execution_count": null,
   "metadata": {},
   "outputs": [
    {
     "data": {
      "text/plain": [
       "'\\nMATCH (p)-[:ABOUT_DISEASE]->(d)\\nWITH d, COLLECT(p) as papers\\nORDER BY SIZE(papers) ASC LIMIT 5\\nRETURN d.name, SIZE(papers)\\n'"
      ]
     },
     "metadata": {},
     "output_type": "display_data"
    }
   ],
   "source": [
    "# 2. What are the rare diseases?\n",
    "# return 5 least common diseases\n",
    "\"\"\"\n",
    "MATCH (p)-[:ABOUT_DISEASE]->(d)\n",
    "WITH d, COLLECT(p) as papers\n",
    "ORDER BY SIZE(papers) ASC LIMIT 5\n",
    "RETURN d.name, SIZE(papers)\n",
    "\"\"\""
   ]
  },
  {
   "cell_type": "code",
   "execution_count": null,
   "metadata": {},
   "outputs": [],
   "source": [
    "# 4. What disease often occur in conjuction?\n",
    "# "
   ]
  },
  {
   "cell_type": "code",
   "execution_count": null,
   "metadata": {},
   "outputs": [
    {
     "data": {
      "text/plain": [
       "'\\nMATCH (p)-[:ABOUT_DISEASE]->(d)\\nWITH d, COLLECT(p) as papers\\nWITH d ORDER BY SIZE(papers) DESC LIMIT 2\\nWITH collect(d) AS top_dis\\nUNWIND top_dis as d\\nMATCH (p)-[:ABOUT_DISEASE]->(d)\\nWITH p as paper\\nMATCH (p)-[:ABOUT_CHEMICAL]->(c)\\nRETURN c.name\\n\\n'"
      ]
     },
     "metadata": {},
     "output_type": "display_data"
    }
   ],
   "source": [
    "# 5. What genetic factors contribute to these diseases?\n",
    "# no genetic entities in graph, here are chemicals\n",
    "# 7. Do chemical factors play role?\n",
    "\"\"\"\n",
    "MATCH (p)-[:ABOUT_DISEASE]->(d)\n",
    "WITH d, COLLECT(p) as papers\n",
    "WITH d ORDER BY SIZE(papers) DESC LIMIT 2\n",
    "WITH collect(d) AS top_dis\n",
    "UNWIND top_dis as d\n",
    "MATCH (p)-[:ABOUT_DISEASE]->(d)\n",
    "WITH p as paper\n",
    "MATCH (p)-[:ABOUT_CHEMICAL]->(c)\n",
    "RETURN c.name\n",
    "\n",
    "\"\"\""
   ]
  },
  {
   "cell_type": "code",
   "execution_count": null,
   "metadata": {},
   "outputs": [
    {
     "data": {
      "text/plain": [
       "'\\n\\nMATCH (p)-[:ABOUT_DISEASE]->(d)\\nWHERE p.date > 1979 and p.date < 1990\\nWITH d, COLLECT(p) as papers\\nORDER BY SIZE(papers) DESC LIMIT 20\\nRETURN d.name, SIZE(papers)\\n\\n\\nMATCH (p)-[:ABOUT_DISEASE]->(d)\\nWHERE p.date < 1990\\nWITH d, COLLECT(p) as papers\\nORDER BY SIZE(papers) DESC LIMIT 20\\nRETURN d.name, SIZE(papers)\\n'"
      ]
     },
     "metadata": {},
     "output_type": "display_data"
    }
   ],
   "source": [
    "# 6. How does the prevalence of these diseases change over time\n",
    "# filter papers by date and rerun disease search\n",
    "\n",
    "\"\"\"\n",
    "MATCH (p)-[:ABOUT_DISEASE]->(d)\n",
    "WHERE p.date < 1980\n",
    "WITH d, COLLECT(p) as papers\n",
    "ORDER BY SIZE(papers) DESC LIMIT 20\n",
    "RETURN d.name, SIZE(papers)\n",
    "\"\"\"\n",
    "\n",
    "# insight: chlamydia started to appear after 1980s, \n",
    "# then became one of the top 5 koala diseases\n",
    "\"\"\"\n",
    "\n",
    "MATCH (p)-[:ABOUT_DISEASE]->(d)\n",
    "WHERE p.date > 1979 and p.date < 1990\n",
    "WITH d, COLLECT(p) as papers\n",
    "ORDER BY SIZE(papers) DESC LIMIT 20\n",
    "RETURN d.name, SIZE(papers)\n",
    "\n",
    "\n",
    "MATCH (p)-[:ABOUT_DISEASE]->(d)\n",
    "WHERE p.date < 1990\n",
    "WITH d, COLLECT(p) as papers\n",
    "ORDER BY SIZE(papers) DESC LIMIT 20\n",
    "RETURN d.name, SIZE(papers)\n",
    "\"\"\"\n",
    "\n",
    "# infections and chlamydia dominate the last 20 years of\n",
    "# publications featuring koala diseases"
   ]
  },
  {
   "cell_type": "code",
   "execution_count": null,
   "metadata": {},
   "outputs": [],
   "source": [
    "# 8. Does region have some effect?\n",
    "# \n"
   ]
  }
 ],
 "metadata": {
  "kernelspec": {
   "display_name": "Python 3.9.12 ('base')",
   "language": "python",
   "name": "python3"
  },
  "language_info": {
   "name": "python",
   "version": "3.9.12"
  },
  "orig_nbformat": 4,
  "vscode": {
   "interpreter": {
    "hash": "48da04e07f350c5981b8e11a17af9bd98c9de8709e199658e23a9e2ddf8785ea"
   }
  }
 },
 "nbformat": 4,
 "nbformat_minor": 2
}
