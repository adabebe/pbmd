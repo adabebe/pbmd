{
 "cells": [
  {
   "cell_type": "code",
   "execution_count": 115,
   "metadata": {},
   "outputs": [],
   "source": [
    "from neo4j import GraphDatabase\n",
    "import yaml\n",
    "from pathlib import Path\n",
    "import pandas as pd\n"
   ]
  },
  {
   "cell_type": "code",
   "execution_count": 4,
   "metadata": {},
   "outputs": [],
   "source": [
    "with Path(\"neo4j_config.yaml\").open() as nc:\n",
    "    neo_config = yaml.safe_load(nc)"
   ]
  },
  {
   "cell_type": "code",
   "execution_count": 111,
   "metadata": {},
   "outputs": [],
   "source": [
    "class NeoApp:\n",
    "    def __init__(self, uri, user, password):\n",
    "        self.driver = GraphDatabase.driver(uri, auth=(user, password))\n",
    "\n",
    "    def close(self):\n",
    "        self.driver.close()\n",
    "\n",
    "    def query(self, query, parameters=None, db=None):\n",
    "        session = None\n",
    "        response = None\n",
    "        try:\n",
    "            session = (\n",
    "                self.driver.session(database=db)\n",
    "                if db is not None\n",
    "                else self.driver.session()\n",
    "            )\n",
    "            r = session.run(query, parameters)\n",
    "            response = [ dict(i) for i in r]\n",
    "        except Exception as e:\n",
    "            print(\"Query failed:\", e)\n",
    "        finally:\n",
    "            if session is not None:\n",
    "                session.close()\n",
    "        return response\n",
    "\n",
    "    \n",
    "\n",
    "\n",
    "neo_con = NeoApp(neo_config[\"uri\"], neo_config[\"user\"], neo_config[\"password\"])"
   ]
  },
  {
   "cell_type": "code",
   "execution_count": 116,
   "metadata": {},
   "outputs": [
    {
     "data": {
      "text/html": [
       "<div>\n",
       "<style scoped>\n",
       "    .dataframe tbody tr th:only-of-type {\n",
       "        vertical-align: middle;\n",
       "    }\n",
       "\n",
       "    .dataframe tbody tr th {\n",
       "        vertical-align: top;\n",
       "    }\n",
       "\n",
       "    .dataframe thead th {\n",
       "        text-align: right;\n",
       "    }\n",
       "</style>\n",
       "<table border=\"1\" class=\"dataframe\">\n",
       "  <thead>\n",
       "    <tr style=\"text-align: right;\">\n",
       "      <th></th>\n",
       "      <th>a.name</th>\n",
       "      <th>SIZE(papers)</th>\n",
       "    </tr>\n",
       "  </thead>\n",
       "  <tbody>\n",
       "    <tr>\n",
       "      <th>0</th>\n",
       "      <td>Peter Timms</td>\n",
       "      <td>90</td>\n",
       "    </tr>\n",
       "    <tr>\n",
       "      <th>1</th>\n",
       "      <td>Carel Thijs</td>\n",
       "      <td>57</td>\n",
       "    </tr>\n",
       "    <tr>\n",
       "      <th>2</th>\n",
       "      <td>Adam Polkinghorne</td>\n",
       "      <td>55</td>\n",
       "    </tr>\n",
       "    <tr>\n",
       "      <th>3</th>\n",
       "      <td>P J Canfield</td>\n",
       "      <td>31</td>\n",
       "    </tr>\n",
       "    <tr>\n",
       "      <th>4</th>\n",
       "      <td>Stephen D Johnston</td>\n",
       "      <td>25</td>\n",
       "    </tr>\n",
       "  </tbody>\n",
       "</table>\n",
       "</div>"
      ],
      "text/plain": [
       "               a.name  SIZE(papers)\n",
       "0         Peter Timms            90\n",
       "1         Carel Thijs            57\n",
       "2   Adam Polkinghorne            55\n",
       "3        P J Canfield            31\n",
       "4  Stephen D Johnston            25"
      ]
     },
     "execution_count": 116,
     "metadata": {},
     "output_type": "execute_result"
    }
   ],
   "source": [
    "# -1. Who is most prevelent researcher writing papers on koalas?\n",
    "# authored relationship is backwards\n",
    "\n",
    "query=\"\"\"\n",
    "MATCH (p)-[:AUTHORED]->(a)\n",
    "WITH a, COLLECT(p) as papers\n",
    "ORDER BY SIZE(papers) DESC\n",
    "RETURN a.name, SIZE(papers)\n",
    "\"\"\"\n",
    "response=neo_con.query(query)\n",
    "pd.DataFrame(response).head(5)"
   ]
  },
  {
   "cell_type": "code",
   "execution_count": null,
   "metadata": {},
   "outputs": [],
   "source": []
  },
  {
   "cell_type": "code",
   "execution_count": null,
   "metadata": {},
   "outputs": [
    {
     "data": {
      "text/plain": [
       "'\\nMATCH (p)-[:HAS_KEYWORD]->(k)\\nWITH k, COLLECT(p) as papers\\nORDER BY SIZE(papers) DESC LIMIT 20\\nRETURN k.name, SIZE(papers)\\n'"
      ]
     },
     "metadata": {},
     "output_type": "display_data"
    }
   ],
   "source": [
    "# 0. What is the most common topic in publications on koalas?\n",
    "# find most common keywords\n",
    "\n",
    "\"\"\"\n",
    "MATCH (p)-[:HAS_KEYWORD]->(k)\n",
    "WITH k, COLLECT(p) as papers\n",
    "ORDER BY SIZE(papers) DESC LIMIT 20\n",
    "RETURN k.name, SIZE(papers)\n",
    "\"\"\"\n",
    "\n",
    "# 0.1 how has the field evolved over time?\n",
    "# what were the most common keywords in the 90's - a signal of\n",
    "# for the koala\n",
    "\n",
    "# doesn't seem to be keywords before 90's and not many in 00's,\n",
    "# hard to make any comparison - probably not enough papers"
   ]
  },
  {
   "cell_type": "code",
   "execution_count": null,
   "metadata": {},
   "outputs": [
    {
     "data": {
      "text/plain": [
       "'\\nMATCH (p)-[:ABOUT_DISEASE]->(d)\\nWITH d, COLLECT(p) as papers\\nORDER BY SIZE(papers) DESC LIMIT 5\\nRETURN d.name, SIZE(papers)\\n'"
      ]
     },
     "metadata": {},
     "output_type": "display_data"
    }
   ],
   "source": [
    "# 1. What are diseases that affect the animal?\n",
    "# return top 5 most common diseases and their paper count\n",
    "\n",
    "\"\"\"\n",
    "MATCH (p)-[:ABOUT_DISEASE]->(d)\n",
    "WITH d, COLLECT(p) as papers\n",
    "ORDER BY SIZE(papers) DESC LIMIT 5\n",
    "RETURN d.name, SIZE(papers)\n",
    "\"\"\""
   ]
  },
  {
   "cell_type": "code",
   "execution_count": null,
   "metadata": {},
   "outputs": [
    {
     "data": {
      "text/plain": [
       "'\\nMATCH (p)-[:ABOUT_DISEASE]->(d)\\nWITH d, COLLECT(p) as papers\\nORDER BY SIZE(papers) ASC LIMIT 5\\nRETURN d.name, SIZE(papers)\\n'"
      ]
     },
     "metadata": {},
     "output_type": "display_data"
    }
   ],
   "source": [
    "# 2. What are the rare diseases?\n",
    "# return 5 least common diseases\n",
    "\"\"\"\n",
    "MATCH (p)-[:ABOUT_DISEASE]->(d)\n",
    "WITH d, COLLECT(p) as papers\n",
    "ORDER BY SIZE(papers) ASC LIMIT 5\n",
    "RETURN d.name, SIZE(papers)\n",
    "\"\"\""
   ]
  },
  {
   "cell_type": "code",
   "execution_count": null,
   "metadata": {},
   "outputs": [],
   "source": [
    "# 4. What disease often occur in conjuction?\n",
    "# "
   ]
  },
  {
   "cell_type": "code",
   "execution_count": null,
   "metadata": {},
   "outputs": [
    {
     "data": {
      "text/plain": [
       "'\\nMATCH (p)-[:ABOUT_DISEASE]->(d)\\nWITH d, COLLECT(p) as papers\\nWITH d ORDER BY SIZE(papers) DESC LIMIT 2\\nWITH collect(d) AS top_dis\\nUNWIND top_dis as d\\nMATCH (p)-[:ABOUT_DISEASE]->(d)\\nWITH p as paper\\nMATCH (p)-[:ABOUT_CHEMICAL]->(c)\\nRETURN c.name\\n\\n'"
      ]
     },
     "metadata": {},
     "output_type": "display_data"
    }
   ],
   "source": [
    "# 5. What genetic factors contribute to these diseases?\n",
    "# no genetic entities in graph, here are chemicals\n",
    "# 7. Do chemical factors play role?\n",
    "\"\"\"\n",
    "MATCH (p)-[:ABOUT_DISEASE]->(d)\n",
    "WITH d, COLLECT(p) as papers\n",
    "WITH d ORDER BY SIZE(papers) DESC LIMIT 2\n",
    "WITH collect(d) AS top_dis\n",
    "UNWIND top_dis as d\n",
    "MATCH (p)-[:ABOUT_DISEASE]->(d)\n",
    "WITH p as paper\n",
    "MATCH (p)-[:ABOUT_CHEMICAL]->(c)\n",
    "RETURN c.name\n",
    "\n",
    "\"\"\""
   ]
  },
  {
   "cell_type": "code",
   "execution_count": null,
   "metadata": {},
   "outputs": [
    {
     "data": {
      "text/plain": [
       "'\\n\\nMATCH (p)-[:ABOUT_DISEASE]->(d)\\nWHERE p.date > 1979 and p.date < 1990\\nWITH d, COLLECT(p) as papers\\nORDER BY SIZE(papers) DESC LIMIT 20\\nRETURN d.name, SIZE(papers)\\n\\n\\nMATCH (p)-[:ABOUT_DISEASE]->(d)\\nWHERE p.date < 1990\\nWITH d, COLLECT(p) as papers\\nORDER BY SIZE(papers) DESC LIMIT 20\\nRETURN d.name, SIZE(papers)\\n'"
      ]
     },
     "metadata": {},
     "output_type": "display_data"
    }
   ],
   "source": [
    "# 6. How does the prevalence of these diseases change over time\n",
    "# filter papers by date and rerun disease search\n",
    "\n",
    "\"\"\"\n",
    "MATCH (p)-[:ABOUT_DISEASE]->(d)\n",
    "WHERE p.date < 1980\n",
    "WITH d, COLLECT(p) as papers\n",
    "ORDER BY SIZE(papers) DESC LIMIT 20\n",
    "RETURN d.name, SIZE(papers)\n",
    "\"\"\"\n",
    "\n",
    "# insight: chlamydia started to appear after 1980s, \n",
    "# then became one of the top 5 koala diseases\n",
    "\"\"\"\n",
    "\n",
    "MATCH (p)-[:ABOUT_DISEASE]->(d)\n",
    "WHERE p.date > 1979 and p.date < 1990\n",
    "WITH d, COLLECT(p) as papers\n",
    "ORDER BY SIZE(papers) DESC LIMIT 20\n",
    "RETURN d.name, SIZE(papers)\n",
    "\n",
    "\n",
    "MATCH (p)-[:ABOUT_DISEASE]->(d)\n",
    "WHERE p.date < 1990\n",
    "WITH d, COLLECT(p) as papers\n",
    "ORDER BY SIZE(papers) DESC LIMIT 20\n",
    "RETURN d.name, SIZE(papers)\n",
    "\"\"\"\n",
    "\n",
    "# infections and chlamydia dominate the last 20 years of\n",
    "# publications featuring koala diseases"
   ]
  },
  {
   "cell_type": "code",
   "execution_count": null,
   "metadata": {},
   "outputs": [],
   "source": [
    "# 8. Does region have some effect?\n",
    "# \n"
   ]
  }
 ],
 "metadata": {
  "kernelspec": {
   "display_name": "Python 3.9.13 ('pbmd')",
   "language": "python",
   "name": "python3"
  },
  "language_info": {
   "codemirror_mode": {
    "name": "ipython",
    "version": 3
   },
   "file_extension": ".py",
   "mimetype": "text/x-python",
   "name": "python",
   "nbconvert_exporter": "python",
   "pygments_lexer": "ipython3",
   "version": "3.9.13"
  },
  "orig_nbformat": 4,
  "vscode": {
   "interpreter": {
    "hash": "fd019aaf1f611e90ac1028bec02a0338950b00eb5434906f3c14a2e122abe040"
   }
  }
 },
 "nbformat": 4,
 "nbformat_minor": 2
}
