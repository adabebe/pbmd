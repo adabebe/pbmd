{
 "cells": [
  {
   "cell_type": "code",
   "execution_count": 2,
   "metadata": {},
   "outputs": [],
   "source": [
    "from pathlib import Path\n",
    "import pandas as pd\n",
    "import yaml\n",
    "from neo4j_lib import NeoApp\n"
   ]
  },
  {
   "cell_type": "code",
   "execution_count": 3,
   "metadata": {},
   "outputs": [],
   "source": [
    "# connect to neo4j\n",
    "with Path(\"neo4j_config.yaml\").open() as nc:\n",
    "    neo_config = yaml.safe_load(nc)\n",
    "    \n",
    "neo_con = NeoApp(neo_config[\"uri\"], neo_config[\"user\"], neo_config[\"password\"])"
   ]
  },
  {
   "cell_type": "code",
   "execution_count": 15,
   "metadata": {},
   "outputs": [
    {
     "data": {
      "text/html": [
       "<div>\n",
       "<style scoped>\n",
       "    .dataframe tbody tr th:only-of-type {\n",
       "        vertical-align: middle;\n",
       "    }\n",
       "\n",
       "    .dataframe tbody tr th {\n",
       "        vertical-align: top;\n",
       "    }\n",
       "\n",
       "    .dataframe thead th {\n",
       "        text-align: right;\n",
       "    }\n",
       "</style>\n",
       "<table border=\"1\" class=\"dataframe\">\n",
       "  <thead>\n",
       "    <tr style=\"text-align: right;\">\n",
       "      <th></th>\n",
       "      <th>a.name</th>\n",
       "      <th>SIZE(papers)</th>\n",
       "    </tr>\n",
       "  </thead>\n",
       "  <tbody>\n",
       "    <tr>\n",
       "      <th>0</th>\n",
       "      <td>Peter Timms</td>\n",
       "      <td>90</td>\n",
       "    </tr>\n",
       "    <tr>\n",
       "      <th>1</th>\n",
       "      <td>Carel Thijs</td>\n",
       "      <td>57</td>\n",
       "    </tr>\n",
       "    <tr>\n",
       "      <th>2</th>\n",
       "      <td>Adam Polkinghorne</td>\n",
       "      <td>55</td>\n",
       "    </tr>\n",
       "    <tr>\n",
       "      <th>3</th>\n",
       "      <td>P J Canfield</td>\n",
       "      <td>31</td>\n",
       "    </tr>\n",
       "    <tr>\n",
       "      <th>4</th>\n",
       "      <td>Stephen D Johnston</td>\n",
       "      <td>25</td>\n",
       "    </tr>\n",
       "  </tbody>\n",
       "</table>\n",
       "</div>"
      ],
      "text/plain": [
       "               a.name  SIZE(papers)\n",
       "0         Peter Timms            90\n",
       "1         Carel Thijs            57\n",
       "2   Adam Polkinghorne            55\n",
       "3        P J Canfield            31\n",
       "4  Stephen D Johnston            25"
      ]
     },
     "execution_count": 15,
     "metadata": {},
     "output_type": "execute_result"
    }
   ],
   "source": [
    "# 1. Who is most productive researcher writing papers on koalas?\n",
    "\n",
    "query=\"\"\"\n",
    "MATCH (p)<-[:AUTHORED]-(a)\n",
    "WITH a, COLLECT(p) as papers\n",
    "ORDER BY SIZE(papers) DESC\n",
    "RETURN a.name, SIZE(papers)\n",
    "\"\"\"\n",
    "response=neo_con.query(query)\n",
    "pd.DataFrame(response).head(5)"
   ]
  },
  {
   "cell_type": "code",
   "execution_count": 17,
   "metadata": {},
   "outputs": [
    {
     "data": {
      "text/html": [
       "<div>\n",
       "<style scoped>\n",
       "    .dataframe tbody tr th:only-of-type {\n",
       "        vertical-align: middle;\n",
       "    }\n",
       "\n",
       "    .dataframe tbody tr th {\n",
       "        vertical-align: top;\n",
       "    }\n",
       "\n",
       "    .dataframe thead th {\n",
       "        text-align: right;\n",
       "    }\n",
       "</style>\n",
       "<table border=\"1\" class=\"dataframe\">\n",
       "  <thead>\n",
       "    <tr style=\"text-align: right;\">\n",
       "      <th></th>\n",
       "      <th>k.name</th>\n",
       "      <th>SIZE(papers)</th>\n",
       "    </tr>\n",
       "  </thead>\n",
       "  <tbody>\n",
       "    <tr>\n",
       "      <th>0</th>\n",
       "      <td>koala</td>\n",
       "      <td>66</td>\n",
       "    </tr>\n",
       "    <tr>\n",
       "      <th>1</th>\n",
       "      <td>Koala</td>\n",
       "      <td>51</td>\n",
       "    </tr>\n",
       "    <tr>\n",
       "      <th>2</th>\n",
       "      <td>Phascolarctos cinereus</td>\n",
       "      <td>41</td>\n",
       "    </tr>\n",
       "    <tr>\n",
       "      <th>3</th>\n",
       "      <td>Chlamydia</td>\n",
       "      <td>32</td>\n",
       "    </tr>\n",
       "    <tr>\n",
       "      <th>4</th>\n",
       "      <td>Chlamydia pecorum</td>\n",
       "      <td>20</td>\n",
       "    </tr>\n",
       "    <tr>\n",
       "      <th>5</th>\n",
       "      <td>koalas</td>\n",
       "      <td>17</td>\n",
       "    </tr>\n",
       "    <tr>\n",
       "      <th>6</th>\n",
       "      <td>koala retrovirus</td>\n",
       "      <td>14</td>\n",
       "    </tr>\n",
       "    <tr>\n",
       "      <th>7</th>\n",
       "      <td>KoRV</td>\n",
       "      <td>12</td>\n",
       "    </tr>\n",
       "    <tr>\n",
       "      <th>8</th>\n",
       "      <td>marsupial</td>\n",
       "      <td>11</td>\n",
       "    </tr>\n",
       "    <tr>\n",
       "      <th>9</th>\n",
       "      <td>Australia</td>\n",
       "      <td>8</td>\n",
       "    </tr>\n",
       "  </tbody>\n",
       "</table>\n",
       "</div>"
      ],
      "text/plain": [
       "                   k.name  SIZE(papers)\n",
       "0                   koala            66\n",
       "1                   Koala            51\n",
       "2  Phascolarctos cinereus            41\n",
       "3               Chlamydia            32\n",
       "4       Chlamydia pecorum            20\n",
       "5                  koalas            17\n",
       "6        koala retrovirus            14\n",
       "7                    KoRV            12\n",
       "8               marsupial            11\n",
       "9               Australia             8"
      ]
     },
     "execution_count": 17,
     "metadata": {},
     "output_type": "execute_result"
    }
   ],
   "source": [
    "# 2. What is the most common topic in publications on koalas?\n",
    "# find most common keywords\n",
    "\n",
    "query=\"\"\"\n",
    "MATCH (p)-[:HAS_KEYWORD]->(k)\n",
    "WITH k, COLLECT(p) as papers\n",
    "ORDER BY SIZE(papers) DESC LIMIT 20\n",
    "RETURN k.name, SIZE(papers)\n",
    "\"\"\"\n",
    "response=neo_con.query(query)\n",
    "pd.DataFrame(response).head(10)"
   ]
  },
  {
   "cell_type": "code",
   "execution_count": null,
   "metadata": {},
   "outputs": [],
   "source": []
  },
  {
   "cell_type": "code",
   "execution_count": 6,
   "metadata": {},
   "outputs": [
    {
     "data": {
      "text/plain": [
       "'\\nMATCH (p)-[:ABOUT_DISEASE]->(d)\\nWITH d, COLLECT(p) as papers\\nORDER BY SIZE(papers) DESC LIMIT 5\\nRETURN d.name, SIZE(papers)\\n'"
      ]
     },
     "execution_count": 6,
     "metadata": {},
     "output_type": "execute_result"
    }
   ],
   "source": [
    "# 1. What are diseases that affect the animal?\n",
    "# return top 5 most common diseases and their paper count\n",
    "\n",
    "\"\"\"\n",
    "MATCH (p)-[:ABOUT_DISEASE]->(d)\n",
    "WITH d, COLLECT(p) as papers\n",
    "ORDER BY SIZE(papers) DESC LIMIT 5\n",
    "RETURN d.name, SIZE(papers)\n",
    "\"\"\""
   ]
  },
  {
   "cell_type": "code",
   "execution_count": 7,
   "metadata": {},
   "outputs": [
    {
     "data": {
      "text/plain": [
       "'\\nMATCH (p)-[:ABOUT_DISEASE]->(d)\\nWITH d, COLLECT(p) as papers\\nORDER BY SIZE(papers) ASC LIMIT 5\\nRETURN d.name, SIZE(papers)\\n'"
      ]
     },
     "execution_count": 7,
     "metadata": {},
     "output_type": "execute_result"
    }
   ],
   "source": [
    "# 2. What are the rare diseases?\n",
    "# return 5 least common diseases\n",
    "\"\"\"\n",
    "MATCH (p)-[:ABOUT_DISEASE]->(d)\n",
    "WITH d, COLLECT(p) as papers\n",
    "ORDER BY SIZE(papers) ASC LIMIT 5\n",
    "RETURN d.name, SIZE(papers)\n",
    "\"\"\""
   ]
  },
  {
   "cell_type": "code",
   "execution_count": 8,
   "metadata": {},
   "outputs": [],
   "source": [
    "# 4. What disease often occur in conjuction?\n",
    "# "
   ]
  },
  {
   "cell_type": "code",
   "execution_count": 9,
   "metadata": {},
   "outputs": [
    {
     "data": {
      "text/plain": [
       "'\\nMATCH (p)-[:ABOUT_DISEASE]->(d)\\nWITH d, COLLECT(p) as papers\\nWITH d ORDER BY SIZE(papers) DESC LIMIT 2\\nWITH collect(d) AS top_dis\\nUNWIND top_dis as d\\nMATCH (p)-[:ABOUT_DISEASE]->(d)\\nWITH p as paper\\nMATCH (p)-[:ABOUT_CHEMICAL]->(c)\\nRETURN c.name\\n\\n'"
      ]
     },
     "execution_count": 9,
     "metadata": {},
     "output_type": "execute_result"
    }
   ],
   "source": [
    "# 5. What genetic factors contribute to these diseases?\n",
    "# no genetic entities in graph, here are chemicals\n",
    "# 7. Do chemical factors play role?\n",
    "\"\"\"\n",
    "MATCH (p)-[:ABOUT_DISEASE]->(d)\n",
    "WITH d, COLLECT(p) as papers\n",
    "WITH d ORDER BY SIZE(papers) DESC LIMIT 2\n",
    "WITH collect(d) AS top_dis\n",
    "UNWIND top_dis as d\n",
    "MATCH (p)-[:ABOUT_DISEASE]->(d)\n",
    "WITH p as paper\n",
    "MATCH (p)-[:ABOUT_CHEMICAL]->(c)\n",
    "RETURN c.name\n",
    "\n",
    "\"\"\""
   ]
  },
  {
   "cell_type": "code",
   "execution_count": 10,
   "metadata": {},
   "outputs": [
    {
     "data": {
      "text/plain": [
       "'\\n\\nMATCH (p)-[:ABOUT_DISEASE]->(d)\\nWHERE p.date > 1979 and p.date < 1990\\nWITH d, COLLECT(p) as papers\\nORDER BY SIZE(papers) DESC LIMIT 20\\nRETURN d.name, SIZE(papers)\\n\\n\\nMATCH (p)-[:ABOUT_DISEASE]->(d)\\nWHERE p.date < 1990\\nWITH d, COLLECT(p) as papers\\nORDER BY SIZE(papers) DESC LIMIT 20\\nRETURN d.name, SIZE(papers)\\n'"
      ]
     },
     "execution_count": 10,
     "metadata": {},
     "output_type": "execute_result"
    }
   ],
   "source": [
    "# 6. How does the prevalence of these diseases change over time\n",
    "# filter papers by date and rerun disease search\n",
    "\n",
    "\"\"\"\n",
    "MATCH (p)-[:ABOUT_DISEASE]->(d)\n",
    "WHERE p.date < 1980\n",
    "WITH d, COLLECT(p) as papers\n",
    "ORDER BY SIZE(papers) DESC LIMIT 20\n",
    "RETURN d.name, SIZE(papers)\n",
    "\"\"\"\n",
    "\n",
    "# insight: chlamydia started to appear after 1980s, \n",
    "# then became one of the top 5 koala diseases\n",
    "\"\"\"\n",
    "\n",
    "MATCH (p)-[:ABOUT_DISEASE]->(d)\n",
    "WHERE p.date > 1979 and p.date < 1990\n",
    "WITH d, COLLECT(p) as papers\n",
    "ORDER BY SIZE(papers) DESC LIMIT 20\n",
    "RETURN d.name, SIZE(papers)\n",
    "\n",
    "\n",
    "MATCH (p)-[:ABOUT_DISEASE]->(d)\n",
    "WHERE p.date < 1990\n",
    "WITH d, COLLECT(p) as papers\n",
    "ORDER BY SIZE(papers) DESC LIMIT 20\n",
    "RETURN d.name, SIZE(papers)\n",
    "\"\"\"\n",
    "\n",
    "# infections and chlamydia dominate the last 20 years of\n",
    "# publications featuring koala diseases"
   ]
  },
  {
   "cell_type": "code",
   "execution_count": 11,
   "metadata": {},
   "outputs": [],
   "source": [
    "# 8. Does region have some effect?\n",
    "# \n",
    "\n",
    "# 0.1 how has the field evolved over time?\n",
    "# what were the most common keywords in the 90's - a signal of\n",
    "# for the koala\n",
    "\n",
    "# doesn't seem to be keywords before 90's and not many in 00's,\n",
    "# hard to make any comparison - probably not enough papers"
   ]
  }
 ],
 "metadata": {
  "kernelspec": {
   "display_name": "Python 3.9.13 ('metmet')",
   "language": "python",
   "name": "python3"
  },
  "language_info": {
   "codemirror_mode": {
    "name": "ipython",
    "version": 3
   },
   "file_extension": ".py",
   "mimetype": "text/x-python",
   "name": "python",
   "nbconvert_exporter": "python",
   "pygments_lexer": "ipython3",
   "version": "3.9.13"
  },
  "orig_nbformat": 4,
  "vscode": {
   "interpreter": {
    "hash": "dec7200092ac79d55389b605c8cde10c1abbe2f1183534f2effacff0f49ea3c9"
   }
  }
 },
 "nbformat": 4,
 "nbformat_minor": 2
}
